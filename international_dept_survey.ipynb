{
 "cells": [
  {
   "cell_type": "code",
   "execution_count": 1,
   "metadata": {},
   "outputs": [
    {
     "name": "stdout",
     "output_type": "stream",
     "text": [
      "Requirement already satisfied: pymysql in c:\\users\\ritva\\anaconda3\\lib\\site-packages (0.10.0)\n",
      "Note: you may need to restart the kernel to use updated packages.\n"
     ]
    }
   ],
   "source": [
    "pip install pymysql\n"
   ]
  },
  {
   "cell_type": "code",
   "execution_count": 17,
   "metadata": {},
   "outputs": [],
   "source": [
    "#This code makes the connection with mysql localhost where database is international_debt and debt_data is the table name!!"
   ]
  },
  {
   "cell_type": "code",
   "execution_count": 1,
   "metadata": {},
   "outputs": [],
   "source": [
    "import pymysql\n",
    "import pandas as pd\n",
    "\n",
    "conn = pymysql.connect(\n",
    "    host=\"localhost\",\n",
    "    port=int(3306),\n",
    "    user=\"root\",\n",
    "    passwd=\"admin\",\n",
    "    db=\"international_debt\",\n",
    "    charset='utf8mb4')\n",
    "\n"
   ]
  },
  {
   "cell_type": "code",
   "execution_count": 18,
   "metadata": {},
   "outputs": [
    {
     "name": "stdout",
     "output_type": "stream",
     "text": [
      "  country_name country_code  \\\n",
      "0  Afghanistan          AFG   \n",
      "1  Afghanistan          AFG   \n",
      "2  Afghanistan          AFG   \n",
      "3  Afghanistan          AFG   \n",
      "4  Afghanistan          AFG   \n",
      "5  Afghanistan          AFG   \n",
      "6  Afghanistan          AFG   \n",
      "7  Afghanistan          AFG   \n",
      "8  Afghanistan          AFG   \n",
      "9  Afghanistan          AFG   \n",
      "\n",
      "                                      indicator_name  indicator_code  \\\n",
      "0  Disbursements on external debt, long-term (DIS...  DT.DIS.DLXF.CD   \n",
      "1  Interest payments on external debt, long-term ...  DT.INT.DLXF.CD   \n",
      "2                  PPG, bilateral (AMT, current US$)  DT.AMT.BLAT.CD   \n",
      "3                  PPG, bilateral (DIS, current US$)  DT.DIS.BLAT.CD   \n",
      "4                  PPG, bilateral (INT, current US$)  DT.INT.BLAT.CD   \n",
      "5               PPG, multilateral (AMT, current US$)  DT.AMT.MLAT.CD   \n",
      "6               PPG, multilateral (DIS, current US$)  DT.DIS.MLAT.CD   \n",
      "7               PPG, multilateral (INT, current US$)  DT.INT.MLAT.CD   \n",
      "8         PPG, official creditors (AMT, current US$)  DT.AMT.OFFT.CD   \n",
      "9         PPG, official creditors (DIS, current US$)  DT.DIS.OFFT.CD   \n",
      "\n",
      "          debt  \n",
      "0   72894453.7  \n",
      "1   53239440.1  \n",
      "2   61739336.9  \n",
      "3   49114729.4  \n",
      "4   39903620.1  \n",
      "5   39107845.0  \n",
      "6   23779724.3  \n",
      "7   13335820.0  \n",
      "8  100847181.9  \n",
      "9   72894453.7  \n"
     ]
    }
   ],
   "source": [
    "#This query provides a look at the table columns and values.\n",
    "debt=pd.read_sql_query(\"SELECT * FROM debt_data LIMIT 10\",conn)\n",
    "print(debt)"
   ]
  },
  {
   "cell_type": "code",
   "execution_count": 2,
   "metadata": {},
   "outputs": [
    {
     "name": "stdout",
     "output_type": "stream",
     "text": [
      "   total_distinct_countries\n",
      "0                       124\n"
     ]
    }
   ],
   "source": [
    "# This query displays total number of distinct countries in the data.\n",
    "debt=pd.read_sql_query(\"SELECT COUNT(DISTINCT country_name) AS total_distinct_countries FROM debt_data\",conn)\n",
    "print(debt)"
   ]
  },
  {
   "cell_type": "code",
   "execution_count": 7,
   "metadata": {},
   "outputs": [
    {
     "name": "stdout",
     "output_type": "stream",
     "text": [
      "   distinct_debt_indicators\n",
      "0            DT.AMT.BLAT.CD\n",
      "1            DT.AMT.DLXF.CD\n",
      "2            DT.AMT.DPNG.CD\n",
      "3            DT.AMT.MLAT.CD\n",
      "4            DT.AMT.OFFT.CD\n",
      "5            DT.AMT.PBND.CD\n",
      "6            DT.AMT.PCBK.CD\n",
      "7            DT.AMT.PROP.CD\n",
      "8            DT.AMT.PRVT.CD\n",
      "9            DT.DIS.BLAT.CD\n",
      "10           DT.DIS.DLXF.CD\n",
      "11           DT.DIS.MLAT.CD\n",
      "12           DT.DIS.OFFT.CD\n",
      "13           DT.DIS.PCBK.CD\n",
      "14           DT.DIS.PROP.CD\n",
      "15           DT.DIS.PRVT.CD\n",
      "16           DT.INT.BLAT.CD\n",
      "17           DT.INT.DLXF.CD\n",
      "18           DT.INT.DPNG.CD\n",
      "19           DT.INT.MLAT.CD\n",
      "20           DT.INT.OFFT.CD\n",
      "21           DT.INT.PBND.CD\n",
      "22           DT.INT.PCBK.CD\n",
      "23           DT.INT.PROP.CD\n",
      "24           DT.INT.PRVT.CD\n"
     ]
    }
   ],
   "source": [
    "#This displays all the unique debt indicators.\n",
    "debt=pd.read_sql_query(\"SELECT DISTINCT indicator_code AS distinct_debt_indicators FROM debt_data ORDER BY distinct_debt_indicators\",conn)\n",
    "print(debt)"
   ]
  },
  {
   "cell_type": "code",
   "execution_count": 3,
   "metadata": {},
   "outputs": [
    {
     "name": "stdout",
     "output_type": "stream",
     "text": [
      "   total_debt\n",
      "0  3079734.49\n"
     ]
    }
   ],
   "source": [
    "# 1)This shows how much total amount has been spent by the international bank on all the countries.\n",
    "debt=pd.read_sql_query(\"SELECT ROUND(SUM(debt)/1000000, 2) AS total_debt FROM debt_data\",conn)\n",
    "print(debt)"
   ]
  },
  {
   "cell_type": "code",
   "execution_count": 4,
   "metadata": {},
   "outputs": [
    {
     "name": "stdout",
     "output_type": "stream",
     "text": [
      "  country_name    total_debt\n",
      "0        China  2.857935e+11\n"
     ]
    }
   ],
   "source": [
    "#This queries shows that \"China\" has the highest debt from the bank.\n",
    "debt=pd.read_sql_query(\"SELECT country_name,  SUM(debt) AS total_debt FROM debt_data GROUP BY country_name ORDER BY total_debt DESC LIMIT 1\",conn)\n",
    "print(debt)"
   ]
  },
  {
   "cell_type": "code",
   "execution_count": 10,
   "metadata": {},
   "outputs": [
    {
     "name": "stdout",
     "output_type": "stream",
     "text": [
      "   debt_indicator                                     indicator_name  \\\n",
      "0  DT.AMT.DLXF.CD  Principal repayments on external debt, long-te...   \n",
      "1  DT.AMT.DPNG.CD  Principal repayments on external debt, private...   \n",
      "2  DT.DIS.DLXF.CD  Disbursements on external debt, long-term (DIS...   \n",
      "3  DT.DIS.OFFT.CD         PPG, official creditors (DIS, current US$)   \n",
      "4  DT.AMT.PRVT.CD          PPG, private creditors (AMT, current US$)   \n",
      "5  DT.INT.DLXF.CD  Interest payments on external debt, long-term ...   \n",
      "6  DT.DIS.BLAT.CD                  PPG, bilateral (DIS, current US$)   \n",
      "7  DT.INT.DPNG.CD  Interest payments on external debt, private no...   \n",
      "8  DT.AMT.OFFT.CD         PPG, official creditors (AMT, current US$)   \n",
      "9  DT.AMT.PBND.CD                      PPG, bonds (AMT, current US$)   \n",
      "\n",
      "   average_debt  \n",
      "0  5.904868e+09  \n",
      "1  5.161194e+09  \n",
      "2  2.152041e+09  \n",
      "3  1.958983e+09  \n",
      "4  1.803694e+09  \n",
      "5  1.644024e+09  \n",
      "6  1.223139e+09  \n",
      "7  1.220411e+09  \n",
      "8  1.191188e+09  \n",
      "9  1.082624e+09  \n"
     ]
    }
   ],
   "source": [
    "#This provides the average debt spent across different indicators.\n",
    "debt=pd.read_sql_query(\"SELECT indicator_code AS debt_indicator, indicator_name, AVG(debt) AS average_debt FROM debt_data GROUP BY debt_indicator, indicator_name ORDER BY average_debt DESC LIMIT 10\",conn)\n",
    "print(debt)"
   ]
  },
  {
   "cell_type": "code",
   "execution_count": 13,
   "metadata": {},
   "outputs": [
    {
     "name": "stdout",
     "output_type": "stream",
     "text": [
      "  country_name                                     indicator_name\n",
      "0        China  Principal repayments on external debt, long-te...\n"
     ]
    }
   ],
   "source": [
    "#This displays a country which has highest debt amount in the category of long term plans this helps us to know a countries economic condition. \n",
    "debt=pd.read_sql_query(\"SELECT country_name, indicator_name FROM debt_data WHERE debt = (SELECT MAX(debt) FROM debt_data WHERE indicator_code='DT.AMT.DLXF.CD')\",conn)\n",
    "print(debt)"
   ]
  },
  {
   "cell_type": "code",
   "execution_count": 14,
   "metadata": {},
   "outputs": [
    {
     "name": "stdout",
     "output_type": "stream",
     "text": [
      "    indicator_code  indicator_count\n",
      "0   DT.INT.OFFT.CD              124\n",
      "1   DT.INT.MLAT.CD              124\n",
      "2   DT.INT.DLXF.CD              124\n",
      "3   DT.AMT.OFFT.CD              124\n",
      "4   DT.AMT.MLAT.CD              124\n",
      "5   DT.AMT.DLXF.CD              124\n",
      "6   DT.DIS.DLXF.CD              123\n",
      "7   DT.INT.BLAT.CD              122\n",
      "8   DT.DIS.OFFT.CD              122\n",
      "9   DT.AMT.BLAT.CD              122\n",
      "10  DT.DIS.MLAT.CD              120\n",
      "11  DT.DIS.BLAT.CD              113\n",
      "12  DT.INT.PRVT.CD               98\n",
      "13  DT.AMT.PRVT.CD               98\n",
      "14  DT.INT.PCBK.CD               84\n",
      "15  DT.AMT.PCBK.CD               84\n",
      "16  DT.INT.DPNG.CD               79\n",
      "17  DT.AMT.DPNG.CD               79\n",
      "18  DT.INT.PBND.CD               69\n",
      "19  DT.AMT.PBND.CD               69\n"
     ]
    }
   ],
   "source": [
    "#This validates our investigations by providing the most frequent debt indicator.\n",
    "debt=pd.read_sql_query(\"SELECT indicator_code, COUNT(indicator_code) AS indicator_count FROM debt_data GROUP BY indicator_code ORDER BY indicator_count DESC, indicator_code DESC LIMIT 20\",conn)\n",
    "print(debt)"
   ]
  },
  {
   "cell_type": "code",
   "execution_count": 5,
   "metadata": {},
   "outputs": [
    {
     "name": "stdout",
     "output_type": "stream",
     "text": [
      "                                   country_name  indicator_code  maximum_debt\n",
      "0                                         China  DT.AMT.DLXF.CD  9.621862e+10\n",
      "1                                        Brazil  DT.AMT.DLXF.CD  9.004184e+10\n",
      "2                                         China  DT.AMT.DPNG.CD  7.239299e+10\n",
      "3                            Russian Federation  DT.AMT.DLXF.CD  6.658976e+10\n",
      "4                                        Turkey  DT.AMT.DLXF.CD  5.155503e+10\n",
      "5                                    South Asia  DT.AMT.DLXF.CD  4.875630e+10\n",
      "6                                        Brazil  DT.AMT.PRVT.CD  4.359870e+10\n",
      "7                            Russian Federation  DT.AMT.DPNG.CD  4.280015e+10\n",
      "8                                        Brazil  DT.AMT.DPNG.CD  4.183144e+10\n",
      "9  Least developed countries: UN classification  DT.DIS.DLXF.CD  4.016077e+10\n"
     ]
    }
   ],
   "source": [
    "#This provides the debt indicators of the country in which it has its highest debt.\n",
    "debt=pd.read_sql_query(\"SELECT country_name, indicator_code, MAX(debt) AS maximum_debt FROM debt_data GROUP BY country_name, indicator_code ORDER BY maximum_debt DESC LIMIT 10\",conn)\n",
    "print(debt)"
   ]
  },
  {
   "cell_type": "code",
   "execution_count": null,
   "metadata": {},
   "outputs": [],
   "source": []
  }
 ],
 "metadata": {
  "kernelspec": {
   "display_name": "Python 3",
   "language": "python",
   "name": "python3"
  },
  "language_info": {
   "codemirror_mode": {
    "name": "ipython",
    "version": 3
   },
   "file_extension": ".py",
   "mimetype": "text/x-python",
   "name": "python",
   "nbconvert_exporter": "python",
   "pygments_lexer": "ipython3",
   "version": "3.7.6"
  }
 },
 "nbformat": 4,
 "nbformat_minor": 4
}
