{
 "cells": [
  {
   "cell_type": "code",
   "execution_count": 1,
   "metadata": {},
   "outputs": [],
   "source": [
    "import pandas as pd\n",
    "import numpy as np\n"
   ]
  },
  {
   "cell_type": "code",
   "execution_count": 7,
   "metadata": {},
   "outputs": [],
   "source": [
    "df=pd.read_csv(\"C:\\MASTERS\\RITVA\\SEM-2\\Advanced Database System\\PROJECT\\IDSData.csv\")"
   ]
  },
  {
   "cell_type": "code",
   "execution_count": 8,
   "metadata": {},
   "outputs": [
    {
     "name": "stdout",
     "output_type": "stream",
     "text": [
      "Index(['Country Name', 'Country Code', 'Indicator Name', 'Indicator Code',\n",
      "       '1970', '1971', '1972', '1973', '1974', '1975', '1976', '1977', '1978',\n",
      "       '1979', '1980', '1981', '1982', '1983', '1984', '1985', '1986', '1987',\n",
      "       '1988', '1989', '1990', '1991', '1992', '1993', '1994', '1995', '1996',\n",
      "       '1997', '1998', '1999', '2000', '2001', '2002', '2003', '2004', '2005',\n",
      "       '2006', '2007', '2008', '2009', '2010', '2011', '2012', '2013', '2014',\n",
      "       '2015', '2016', '2017', '2018', '2019', '2020', '2021', '2022', '2023',\n",
      "       '2024', 'Unnamed: 59'],\n",
      "      dtype='object')\n"
     ]
    }
   ],
   "source": [
    "print(df.columns)"
   ]
  },
  {
   "cell_type": "code",
   "execution_count": 4,
   "metadata": {},
   "outputs": [
    {
     "name": "stdout",
     "output_type": "stream",
     "text": [
      "   Country Name Country Code  \\\n",
      "0   Afghanistan          AFG   \n",
      "1   Afghanistan          AFG   \n",
      "2   Afghanistan          AFG   \n",
      "3   Afghanistan          AFG   \n",
      "4   Afghanistan          AFG   \n",
      "..          ...          ...   \n",
      "95  Afghanistan          AFG   \n",
      "96  Afghanistan          AFG   \n",
      "97  Afghanistan          AFG   \n",
      "98  Afghanistan          AFG   \n",
      "99  Afghanistan          AFG   \n",
      "\n",
      "                                       Indicator Name  Indicator Code  1970  \\\n",
      "0   Average grace period on new external debt comm...     DT.GPA.DPPG   0.0   \n",
      "1   Average grace period on new external debt comm...     DT.GPA.OFFT   0.0   \n",
      "2   Average grace period on new external debt comm...     DT.GPA.PRVT   0.0   \n",
      "3   Average grant element on new external debt com...     DT.GRE.DPPG   0.0   \n",
      "4   Average grant element on new external debt com...     DT.GRE.OFFT   0.0   \n",
      "..                                                ...             ...   ...   \n",
      "95  Net flows on external debt, total (NFL, curren...  DT.NFL.DECT.CD   0.0   \n",
      "96  Net transfers on external debt, long-term (NTR...  DT.NTR.DLXF.CD   0.0   \n",
      "97  Net transfers on external debt, private nongua...  DT.NTR.DPNG.CD   0.0   \n",
      "98  Net transfers on external debt, public and pub...  DT.NTR.DPPG.CD   0.0   \n",
      "99  Net transfers on external debt, total (NTR, cu...  DT.NTR.DECT.CD   0.0   \n",
      "\n",
      "    1971  1972  1973  1974  1975  ...        2016          2017  2018  2019  \\\n",
      "0    0.0   0.0   0.0   0.0   0.0  ...         0.0  1.983180e+01   NaN   NaN   \n",
      "1    0.0   0.0   0.0   0.0   0.0  ...         0.0  1.983180e+01   NaN   NaN   \n",
      "2    0.0   0.0   0.0   0.0   0.0  ...         0.0  0.000000e+00   NaN   NaN   \n",
      "3    0.0   0.0   0.0   0.0   0.0  ...         0.0  8.383330e+01   NaN   NaN   \n",
      "4    0.0   0.0   0.0   0.0   0.0  ...         0.0  8.383330e+01   NaN   NaN   \n",
      "..   ...   ...   ...   ...   ...  ...         ...           ...   ...   ...   \n",
      "95   0.0   0.0   0.0   0.0   0.0  ... -50811859.3  5.221199e+07   NaN   NaN   \n",
      "96   0.0   0.0   0.0   0.0   0.0  ... -18601000.0 -2.734900e+07   NaN   NaN   \n",
      "97   0.0   0.0   0.0   0.0   0.0  ...         0.0  0.000000e+00   NaN   NaN   \n",
      "98   0.0   0.0   0.0   0.0   0.0  ... -18600531.9 -2.734938e+07   NaN   NaN   \n",
      "99   0.0   0.0   0.0   0.0   0.0  ... -58956546.7  4.147735e+07   NaN   NaN   \n",
      "\n",
      "    2020  2021  2022  2023  2024  2025  \n",
      "0    NaN   NaN   NaN   NaN   NaN   NaN  \n",
      "1    NaN   NaN   NaN   NaN   NaN   NaN  \n",
      "2    NaN   NaN   NaN   NaN   NaN   NaN  \n",
      "3    NaN   NaN   NaN   NaN   NaN   NaN  \n",
      "4    NaN   NaN   NaN   NaN   NaN   NaN  \n",
      "..   ...   ...   ...   ...   ...   ...  \n",
      "95   NaN   NaN   NaN   NaN   NaN   NaN  \n",
      "96   NaN   NaN   NaN   NaN   NaN   NaN  \n",
      "97   NaN   NaN   NaN   NaN   NaN   NaN  \n",
      "98   NaN   NaN   NaN   NaN   NaN   NaN  \n",
      "99   NaN   NaN   NaN   NaN   NaN   NaN  \n",
      "\n",
      "[100 rows x 60 columns]\n"
     ]
    }
   ],
   "source": [
    "print(df.head(100))"
   ]
  },
  {
   "cell_type": "code",
   "execution_count": 11,
   "metadata": {},
   "outputs": [],
   "source": [
    "columns=['Country Name', 'Country Code','Indicator Name','Indicator Code']\n",
    "df.columns = [c.replace(' ', '_') for c in df.columns]"
   ]
  },
  {
   "cell_type": "code",
   "execution_count": 12,
   "metadata": {},
   "outputs": [],
   "source": [
    "df=df.fillna(0)"
   ]
  },
  {
   "cell_type": "code",
   "execution_count": 14,
   "metadata": {},
   "outputs": [
    {
     "name": "stdout",
     "output_type": "stream",
     "text": [
      "Solomon Islands         214\n",
      "Mali                    214\n",
      "Lower middle income     214\n",
      "Syrian Arab Republic    214\n",
      "South Africa            214\n",
      "                       ... \n",
      "Sri Lanka               214\n",
      "India                   214\n",
      "Guatemala               214\n",
      "Algeria                 214\n",
      "Nigeria                 214\n",
      "Name: Country_Name, Length: 136, dtype: int64\n"
     ]
    }
   ],
   "source": [
    "countries=df[\"Country_Name\"]\n",
    "print(countries.value_counts())"
   ]
  },
  {
   "cell_type": "code",
   "execution_count": null,
   "metadata": {},
   "outputs": [],
   "source": []
  },
  {
   "cell_type": "code",
   "execution_count": null,
   "metadata": {},
   "outputs": [],
   "source": []
  },
  {
   "cell_type": "code",
   "execution_count": null,
   "metadata": {},
   "outputs": [],
   "source": []
  },
  {
   "cell_type": "code",
   "execution_count": null,
   "metadata": {
    "scrolled": false
   },
   "outputs": [],
   "source": [
    "\n"
   ]
  },
  {
   "cell_type": "code",
   "execution_count": null,
   "metadata": {},
   "outputs": [],
   "source": [
    "\n"
   ]
  },
  {
   "cell_type": "code",
   "execution_count": null,
   "metadata": {
    "scrolled": false
   },
   "outputs": [],
   "source": []
  },
  {
   "cell_type": "code",
   "execution_count": null,
   "metadata": {},
   "outputs": [],
   "source": []
  },
  {
   "cell_type": "code",
   "execution_count": null,
   "metadata": {},
   "outputs": [],
   "source": []
  }
 ],
 "metadata": {
  "kernelspec": {
   "display_name": "Python 3",
   "language": "python",
   "name": "python3"
  },
  "language_info": {
   "codemirror_mode": {
    "name": "ipython",
    "version": 3
   },
   "file_extension": ".py",
   "mimetype": "text/x-python",
   "name": "python",
   "nbconvert_exporter": "python",
   "pygments_lexer": "ipython3",
   "version": "3.7.6"
  }
 },
 "nbformat": 4,
 "nbformat_minor": 4
}
